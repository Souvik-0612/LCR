{
 "cells": [
  {
   "cell_type": "markdown",
   "id": "58ee82f1",
   "metadata": {},
   "source": [
    "$$LCR$$"
   ]
  },
  {
   "cell_type": "code",
   "execution_count": 99,
   "id": "7d6d96c9",
   "metadata": {},
   "outputs": [
    {
     "data": {
      "image/png": "[encoded data removed]",
      "text/plain": [
       "<Figure size 432x288 with 1 Axes>"
      ]
     },
     "metadata": {
      "needs_background": "light"
     },
     "output_type": "display_data"
    }
   ],
   "source": [
    "v = 5 #5 volts\n",
    "R = 100\n",
    "L = 0.020\n",
    "C = 0.46 * 10**(-6)\n",
    "\n",
    "import numpy as np\n",
    "f = np.arange(100,6000, 0.01)\n",
    "#Set - 1\n",
    "z1 = np.sqrt(R*R + (2*np.pi*f*L - 1/(2*np.pi*f*C))**2)\n",
    "I1 = v/z1\n",
    "#Set - 2\n",
    "z2 = np.sqrt((R+100)*(R+100) + (2*np.pi*f*L - 1/(2*np.pi*f*C))**2)\n",
    "I2 = v/z2\n",
    "\n",
    "import matplotlib.pyplot as plt\n",
    "plt.xlabel(\"Frequency(in Hz)\")\n",
    "plt.ylabel(\"Current(in A)\")\n",
    "plt.plot(f,I1,\"r\")\n",
    "plt.plot(f,I2,\"b\")\n",
    "plt.title(\"LCR Experiment\")\n",
    "plt.show()\n"
   ]
  },
  {
   "cell_type": "code",
   "execution_count": 90,
   "id": "8ce22e9b",
   "metadata": {},
   "outputs": [
    {
     "name": "stdout",
     "output_type": "stream",
     "text": [
      "0.04999999999607556\n"
     ]
    }
   ],
   "source": [
    "max = 0\n",
    "for i in range(len(I1)):\n",
    "    if (max < I1[i]):\n",
    "        max = I1[i]\n",
    "        \n",
    "print(max)"
   ]
  },
  {
   "cell_type": "code",
   "execution_count": 91,
   "id": "d0fe07bf",
   "metadata": {},
   "outputs": [
    {
     "name": "stdout",
     "output_type": "stream",
     "text": [
      "Index of maximum current 155930\n"
     ]
    }
   ],
   "source": [
    "for i in range(len(I1)):\n",
    "    if (I1[i] == max):\n",
    "        break\n",
    "        \n",
    "    #print(max, \"\\t\", I[i])\n",
    "     \n",
    "print(\"Index of maximum current\",i)"
   ]
  },
  {
   "cell_type": "code",
   "execution_count": 92,
   "id": "57986202",
   "metadata": {},
   "outputs": [
    {
     "name": "stdout",
     "output_type": "stream",
     "text": [
      "Resonance frequency is  1659.3000000007978\n"
     ]
    }
   ],
   "source": [
    "print(\"Resonance frequency is \", f[155930])"
   ]
  },
  {
   "cell_type": "code",
   "execution_count": 93,
   "id": "4b9ef078",
   "metadata": {},
   "outputs": [
    {
     "name": "stdout",
     "output_type": "stream",
     "text": [
      "0.024999999999509446\n"
     ]
    }
   ],
   "source": [
    "max2 = 0\n",
    "for i in range(len(I2)):\n",
    "    if (max2 < I2[i]):\n",
    "        max2 = I2[i]\n",
    "        \n",
    "print(max2)"
   ]
  },
  {
   "cell_type": "code",
   "execution_count": 100,
   "id": "9a667c92",
   "metadata": {},
   "outputs": [
    {
     "name": "stdout",
     "output_type": "stream",
     "text": [
      "Index of maximum current 155930\n"
     ]
    }
   ],
   "source": [
    "max2 = 0.024999999999509446 \n",
    "for i in range(len(I2)):\n",
    "    if (I2[i] == max2):\n",
    "        break\n",
    "print(\"Index of maximum current\",i)"
   ]
  },
  {
   "cell_type": "code",
   "execution_count": 101,
   "id": "07a6c7c1",
   "metadata": {},
   "outputs": [
    {
     "name": "stdout",
     "output_type": "stream",
     "text": [
      "Resonance frequency is  1659.3000000007978\n"
     ]
    }
   ],
   "source": [
    "print(\"Resonance frequency is \", f[155930])"
   ]
  }
 ],
 "metadata": {
  "kernelspec": {
   "display_name": "Python 3 (ipykernel)",
   "language": "python",
   "name": "python3"
  },
  "language_info": {
   "codemirror_mode": {
    "name": "ipython",
    "version": 3
   },
   "file_extension": ".py",
   "mimetype": "text/x-python",
   "name": "python",
   "nbconvert_exporter": "python",
   "pygments_lexer": "ipython3",
   "version": "3.10.0"
  }
 },
 "nbformat": 4,
 "nbformat_minor": 5
}
